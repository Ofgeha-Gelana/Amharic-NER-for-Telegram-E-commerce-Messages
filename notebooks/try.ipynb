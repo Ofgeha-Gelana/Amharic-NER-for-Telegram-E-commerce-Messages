{
 "cells": [
  {
   "cell_type": "code",
   "execution_count": null,
   "metadata": {},
   "outputs": [
    {
     "name": "stderr",
     "output_type": "stream",
     "text": [
      "C:\\Users\\Coop\\AppData\\Local\\Temp\\ipykernel_23424\\922196802.py:49: RuntimeWarning: coroutine 'AuthMethods._start' was never awaited\n",
      "  client.start()\n",
      "RuntimeWarning: Enable tracemalloc to get the object allocation traceback\n"
     ]
    },
    {
     "name": "stdout",
     "output_type": "stream",
     "text": [
      "Connecting to Telegram...\n"
     ]
    }
   ],
   "source": [
    "from telethon import TelegramClient\n",
    "import pandas as pd\n",
    "import os\n",
    "from dotenv import load_dotenv\n",
    "import nest_asyncio  # For fixing the nested loop issue in Jupyter Notebook\n",
    "\n",
    "# Allow nested event loops\n",
    "nest_asyncio.apply()\n",
    "\n",
    "# Load environment variables\n",
    "load_dotenv()\n",
    "\n",
    "# Fetch credentials from .env file\n",
    "API_ID = os.getenv(\"TELEGRAM_API_ID\")  # Your API ID from .env\n",
    "API_HASH = os.getenv(\"TELEGRAM_API_HASH\")  # Your API Hash from .env\n",
    "USERNAME = \"@ZemenExpress\"  # Target channel username\n",
    "OUTPUT_FILE = \"zemenexpress_data.csv\"  # File to save scraped messages\n",
    "\n",
    "# Initialize Telegram client\n",
    "client = TelegramClient(\"session_name\", API_ID, API_HASH)\n",
    "\n",
    "async def fetch_messages():\n",
    "    \"\"\"\n",
    "    Fetch messages from the specified Telegram channel.\n",
    "    \"\"\"\n",
    "    print(\"Connecting to Telegram...\")\n",
    "    messages = []\n",
    "\n",
    "    # Start fetching messages\n",
    "    async with client:\n",
    "        print(f\"Fetching messages from {USERNAME}...\")\n",
    "        async for message in client.iter_messages(USERNAME, limit=500):  # Adjust limit as needed\n",
    "            if message.text:  # Filter messages with text content\n",
    "                messages.append({\n",
    "                    \"message_id\": message.id,\n",
    "                    \"timestamp\": message.date.strftime(\"%Y-%m-%d %H:%M:%S\"),\n",
    "                    \"text\": message.text\n",
    "                })\n",
    "\n",
    "    # Convert to DataFrame\n",
    "    df = pd.DataFrame(messages)\n",
    "    print(f\"Fetched {len(df)} messages.\")\n",
    "\n",
    "    # Save to CSV\n",
    "    df.to_csv(OUTPUT_FILE, index=False, encoding=\"utf-8\")\n",
    "    print(f\"Data saved to {OUTPUT_FILE}.\")\n",
    "\n",
    "# Start the Telegram client and fetch messages\n",
    "client.start()\n",
    "await fetch_messages()\n",
    "client.disconnect()\n"
   ]
  },
  {
   "cell_type": "code",
   "execution_count": 2,
   "metadata": {},
   "outputs": [
    {
     "ename": "ModuleNotFoundError",
     "evalue": "No module named 'dotenv'",
     "output_type": "error",
     "traceback": [
      "\u001b[1;31m---------------------------------------------------------------------------\u001b[0m",
      "\u001b[1;31mModuleNotFoundError\u001b[0m                       Traceback (most recent call last)",
      "Cell \u001b[1;32mIn[2], line 4\u001b[0m\n\u001b[0;32m      2\u001b[0m \u001b[38;5;28;01mimport\u001b[39;00m\u001b[38;5;250m \u001b[39m\u001b[38;5;21;01mpandas\u001b[39;00m\u001b[38;5;250m \u001b[39m\u001b[38;5;28;01mas\u001b[39;00m\u001b[38;5;250m \u001b[39m\u001b[38;5;21;01mpd\u001b[39;00m\n\u001b[0;32m      3\u001b[0m \u001b[38;5;28;01mimport\u001b[39;00m\u001b[38;5;250m \u001b[39m\u001b[38;5;21;01mos\u001b[39;00m\n\u001b[1;32m----> 4\u001b[0m \u001b[38;5;28;01mfrom\u001b[39;00m\u001b[38;5;250m \u001b[39m\u001b[38;5;21;01mdotenv\u001b[39;00m\u001b[38;5;250m \u001b[39m\u001b[38;5;28;01mimport\u001b[39;00m load_dotenv\n\u001b[0;32m      6\u001b[0m \u001b[38;5;66;03m# Load environment variables\u001b[39;00m\n\u001b[0;32m      7\u001b[0m load_dotenv()\n",
      "\u001b[1;31mModuleNotFoundError\u001b[0m: No module named 'dotenv'"
     ]
    }
   ],
   "source": [
    "# from telethon import TelegramClient\n",
    "# import pandas as pd\n",
    "# import os\n",
    "# from dotenv import load_dotenv\n",
    "\n",
    "# # Load environment variables\n",
    "# load_dotenv()\n",
    "\n",
    "# # Fetch credentials from .env file\n",
    "# API_ID = os.getenv(\"TELEGRAM_API_ID\")  # Your API ID from .env\n",
    "# API_HASH = os.getenv(\"TELEGRAM_API_HASH\")  # Your API Hash from .env\n",
    "# USERNAME = \"@ZemenExpress\"  # Target channel username\n",
    "# OUTPUT_FILE = \"zemenexpress_data.csv\"  # File to save scraped messages\n",
    "\n",
    "# # Initialize Telegram client\n",
    "# client = TelegramClient(\"session_name\", API_ID, API_HASH)\n",
    "\n",
    "# async def fetch_messages():\n",
    "#     \"\"\"\n",
    "#     Fetch messages from the specified Telegram channel.\n",
    "#     \"\"\"\n",
    "#     print(\"Connecting to Telegram...\")\n",
    "#     messages = []\n",
    "\n",
    "#     # Start fetching messages\n",
    "#     async with client:\n",
    "#         print(f\"Fetching messages from {USERNAME}...\")\n",
    "#         async for message in client.iter_messages(USERNAME, limit=500):  # Adjust limit as needed\n",
    "#             if message.text:  # Filter messages with text content\n",
    "#                 messages.append({\n",
    "#                     \"message_id\": message.id,\n",
    "#                     \"timestamp\": message.date.strftime(\"%Y-%m-%d %H:%M:%S\"),\n",
    "#                     \"text\": message.text\n",
    "#                 })\n",
    "\n",
    "#     # Convert to DataFrame\n",
    "#     df = pd.DataFrame(messages)\n",
    "#     print(f\"Fetched {len(df)} messages.\")\n",
    "\n",
    "#     # Save to CSV\n",
    "#     df.to_csv(OUTPUT_FILE, index=False, encoding=\"utf-8\")\n",
    "#     print(f\"Data saved to {OUTPUT_FILE}.\")\n",
    "\n",
    "# if __name__ == \"__main__\":\n",
    "#     try:\n",
    "#         client.start()  # Start the client\n",
    "#         print(\"Telegram client started successfully.\")\n",
    "#         client.loop.run_until_complete(fetch_messages())  # Run the async function\n",
    "#     except Exception as e:\n",
    "#         print(f\"Error: {e}\")\n",
    "#     finally:\n",
    "#         client.disconnect()\n",
    "#         print(\"Telegram client disconnected.\")\n"
   ]
  }
 ],
 "metadata": {
  "kernelspec": {
   "display_name": ".venv",
   "language": "python",
   "name": "python3"
  },
  "language_info": {
   "codemirror_mode": {
    "name": "ipython",
    "version": 3
   },
   "file_extension": ".py",
   "mimetype": "text/x-python",
   "name": "python",
   "nbconvert_exporter": "python",
   "pygments_lexer": "ipython3",
   "version": "3.12.2"
  }
 },
 "nbformat": 4,
 "nbformat_minor": 2
}
